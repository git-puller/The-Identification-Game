{
 "cells": [
  {
   "cell_type": "markdown",
   "metadata": {},
   "source": [
    "# Demonstration of Combined Model\n",
    "####    <p style='text-align: right;'>  --- A Joint Decision Architecture </p>\n",
    "\n",
    "\n",
    "<img src=\"./combined_flowchart.jpg\" width=1000 height=1000 />"
   ]
  },
  {
   "cell_type": "markdown",
   "metadata": {},
   "source": [
    "# Part 1: Import database and Trained models"
   ]
  },
  {
   "cell_type": "code",
   "execution_count": null,
   "metadata": {},
   "outputs": [],
   "source": [
    "import torch\n",
    "import torch.nn as nn\n",
    "import mini_library as ml\n",
    "from torchvision import models\n",
    "    \n",
    "# define paths for validationa and predictions\n",
    "val_file_path = './acse-miniproject/train'\n",
    "test_file_path = './acse-miniproject/test'\n",
    "\n",
    "\n",
    "# load models\n",
    "model_1 = models.wide_resnet50_2()\n",
    "model_2 = models.inception_v3()\n",
    "model_3 = models.densenet161()\n",
    "model_4 = models.wide_resnet101_2()\n",
    "\n",
    "# get models last layer to modify it\n",
    "num_ftrs_1 = model_1.fc.in_features\n",
    "num_ftrs_2 = model_2.fc.in_features\n",
    "num_ftrs_3 = model_3.classifier.in_features\n",
    "num_ftrs_4 = model_4.fc.in_features\n",
    "\n",
    "\n",
    "# modify models last layer\n",
    "model_1.fc = nn.Linear(num_ftrs_1, 200)\n",
    "\n",
    "model_2.AuxLogits.fc = nn.Linear(768, 200)\n",
    "model_2.fc = nn.Linear(2048,200)\n",
    "model_2.aux_logits = False\n",
    "\n",
    "model_3.classifier = nn.Linear(num_ftrs_3, 200)\n",
    "model_4.fc = nn.Linear(num_ftrs_4, 200)\n",
    "\n",
    "\n",
    "# load the models\n",
    "model_1.load_state_dict(torch.load('./pth_files/resnet50.pth', \n",
    "                                    map_location=torch.device('cpu')))\n",
    "model_2.load_state_dict(torch.load('./pth_files/GoogleNet_inception_v3.pth', \n",
    "                                    map_location=torch.device('cpu')))\n",
    "model_3.load_state_dict(torch.load('./pth_files/Densenet_128.pth', \n",
    "                                    map_location=torch.device('cpu')))\n",
    "model_4.load_state_dict(torch.load('./pth_files/resnet101.pth', \n",
    "                                    map_location=torch.device('cpu')))\n"
   ]
  },
  {
   "cell_type": "markdown",
   "metadata": {},
   "source": [
    "# Part 2: Evaluate accuracy and get predictions"
   ]
  },
  {
   "cell_type": "code",
   "execution_count": null,
   "metadata": {},
   "outputs": [],
   "source": [
    "\n",
    "\n",
    "# list of image sizes for input of each model\n",
    "input_sizes = [224, 299, 128, 144]\n",
    "\n",
    "# list of models to be considered for classification\n",
    "models_ = [model_1, model_2, model_3, model_4]\n",
    "\n",
    "# list of models' validation accuracies\n",
    "model_accs = [0.8292, 0.753, 0.788, 0.787]\n",
    "\n",
    "# evaluate\n",
    "ml.evaluate_combined(models_, model_accs, input_sizes, val_file_path)\n",
    "\n",
    "# get CSV of predictions\n",
    "ml.get_prediction_csv_combined(models_, model_accs, input_sizes, test_file_path)\n"
   ]
  }
 ],
 "metadata": {
  "kernelspec": {
   "display_name": "Python 3",
   "language": "python",
   "name": "python3"
  },
  "language_info": {
   "codemirror_mode": {
    "name": "ipython",
    "version": 3
   },
   "file_extension": ".py",
   "mimetype": "text/x-python",
   "name": "python",
   "nbconvert_exporter": "python",
   "pygments_lexer": "ipython3",
   "version": "3.7.3"
  }
 },
 "nbformat": 4,
 "nbformat_minor": 2
}
