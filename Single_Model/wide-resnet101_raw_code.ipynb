{
 "cells": [
  {
   "cell_type": "code",
   "execution_count": 1,
   "metadata": {},
   "outputs": [
    {
     "name": "stdout",
     "output_type": "stream",
     "text": [
      "Requirement already satisfied: pycm in /opt/firedrake/lib/python3.6/site-packages (2.6)\n",
      "Requirement already satisfied: livelossplot in /opt/firedrake/lib/python3.6/site-packages (0.5.0)\n",
      "Requirement already satisfied: torchvision in /opt/firedrake/lib/python3.6/site-packages (0.5.0)\n",
      "Requirement already satisfied: art>=1.8 in /opt/firedrake/lib/python3.6/site-packages (from pycm) (4.5)\n",
      "Requirement already satisfied: numpy>=1.9.0 in /opt/firedrake/lib/python3.6/site-packages (from pycm) (1.18.2)\n",
      "Requirement already satisfied: matplotlib; python_version >= \"3.6\" in /opt/firedrake/lib/python3.6/site-packages (from livelossplot) (3.2.1)\n",
      "Requirement already satisfied: ipython in /opt/firedrake/lib/python3.6/site-packages (from livelossplot) (7.13.0)\n",
      "Requirement already satisfied: torch==1.4.0 in /opt/firedrake/lib/python3.6/site-packages (from torchvision) (1.4.0)\n",
      "Requirement already satisfied: pillow>=4.1.1 in /opt/firedrake/lib/python3.6/site-packages (from torchvision) (7.0.0)\n",
      "Requirement already satisfied: six in /opt/firedrake/lib/python3.6/site-packages (from torchvision) (1.14.0)\n",
      "Requirement already satisfied: coverage>=4.1 in /opt/firedrake/lib/python3.6/site-packages (from art>=1.8->pycm) (4.4)\n",
      "Requirement already satisfied: cycler>=0.10 in /opt/firedrake/lib/python3.6/site-packages (from matplotlib; python_version >= \"3.6\"->livelossplot) (0.10.0)\n",
      "Requirement already satisfied: kiwisolver>=1.0.1 in /opt/firedrake/lib/python3.6/site-packages (from matplotlib; python_version >= \"3.6\"->livelossplot) (1.1.0)\n",
      "Requirement already satisfied: python-dateutil>=2.1 in /opt/firedrake/lib/python3.6/site-packages (from matplotlib; python_version >= \"3.6\"->livelossplot) (2.8.1)\n",
      "Requirement already satisfied: pyparsing!=2.0.4,!=2.1.2,!=2.1.6,>=2.0.1 in /opt/firedrake/lib/python3.6/site-packages (from matplotlib; python_version >= \"3.6\"->livelossplot) (2.4.6)\n",
      "Requirement already satisfied: setuptools>=18.5 in /opt/firedrake/lib/python3.6/site-packages (from ipython->livelossplot) (46.1.3)\n",
      "Requirement already satisfied: decorator in /opt/firedrake/lib/python3.6/site-packages (from ipython->livelossplot) (4.4.2)\n",
      "Requirement already satisfied: pickleshare in /opt/firedrake/lib/python3.6/site-packages (from ipython->livelossplot) (0.7.5)\n",
      "Requirement already satisfied: prompt-toolkit!=3.0.0,!=3.0.1,<3.1.0,>=2.0.0 in /opt/firedrake/lib/python3.6/site-packages (from ipython->livelossplot) (3.0.5)\n",
      "Requirement already satisfied: pygments in /opt/firedrake/lib/python3.6/site-packages (from ipython->livelossplot) (2.6.1)\n",
      "Requirement already satisfied: pexpect; sys_platform != \"win32\" in /opt/firedrake/lib/python3.6/site-packages (from ipython->livelossplot) (4.8.0)\n",
      "Requirement already satisfied: jedi>=0.10 in /opt/firedrake/lib/python3.6/site-packages (from ipython->livelossplot) (0.16.0)\n",
      "Requirement already satisfied: traitlets>=4.2 in /opt/firedrake/lib/python3.6/site-packages (from ipython->livelossplot) (4.3.3)\n",
      "Requirement already satisfied: backcall in /opt/firedrake/lib/python3.6/site-packages (from ipython->livelossplot) (0.1.0)\n",
      "Requirement already satisfied: wcwidth in /opt/firedrake/lib/python3.6/site-packages (from prompt-toolkit!=3.0.0,!=3.0.1,<3.1.0,>=2.0.0->ipython->livelossplot) (0.1.9)\n",
      "Requirement already satisfied: ptyprocess>=0.5 in /opt/firedrake/lib/python3.6/site-packages (from pexpect; sys_platform != \"win32\"->ipython->livelossplot) (0.6.0)\n",
      "Requirement already satisfied: parso>=0.5.2 in /opt/firedrake/lib/python3.6/site-packages (from jedi>=0.10->ipython->livelossplot) (0.6.2)\n",
      "Requirement already satisfied: ipython-genutils in /opt/firedrake/lib/python3.6/site-packages (from traitlets>=4.2->ipython->livelossplot) (0.2.0)\n",
      "\u001b[33mWARNING: You are using pip version 20.0.2; however, version 20.1.1 is available.\n",
      "You should consider upgrading via the '/opt/firedrake/bin/python -m pip install --upgrade pip' command.\u001b[0m\n"
     ]
    }
   ],
   "source": [
    "!pip install pycm livelossplot torchvision"
   ]
  },
  {
   "cell_type": "code",
   "execution_count": 2,
   "metadata": {},
   "outputs": [],
   "source": [
    "from sklearn import datasets\n",
    "from sklearn.metrics import accuracy_score\n",
    "from sklearn.model_selection import StratifiedShuffleSplit\n",
    "import matplotlib.pyplot as plt\n",
    "from livelossplot import PlotLosses\n",
    "from pycm import *\n",
    "import random\n",
    "import numpy as np\n",
    "import torch\n",
    "import torch.nn as nn\n",
    "import torch.nn.functional as F\n",
    "from torch.utils.data import TensorDataset, DataLoader\n",
    "import torchvision.transforms as transforms\n",
    "from torch.utils.data import Dataset\n",
    "from torchvision.transforms import Compose, ToTensor\n",
    "import json"
   ]
  },
  {
   "cell_type": "code",
   "execution_count": 3,
   "metadata": {},
   "outputs": [],
   "source": [
    "# AUGMENTATION AND RESIZING\n",
    "augmented = 1  # 1 for on 0 for off\n",
    "dimension1 = 144  # Training set dim\n",
    "dimension2 = 144  # Validation set dim\n",
    "batch_size = 64\n",
    "test_batch_size = 1000"
   ]
  },
  {
   "cell_type": "code",
   "execution_count": 4,
   "metadata": {},
   "outputs": [
    {
     "name": "stdout",
     "output_type": "stream",
     "text": [
      "Available devices  4\n",
      "Current cuda device  0\n"
     ]
    }
   ],
   "source": [
    "print ('Available devices ', torch.cuda.device_count())\n",
    "print ('Current cuda device ', torch.cuda.current_device())"
   ]
  },
  {
   "cell_type": "code",
   "execution_count": 5,
   "metadata": {},
   "outputs": [
    {
     "name": "stdout",
     "output_type": "stream",
     "text": [
      "Available devices  4\n",
      "Current cuda device  1\n"
     ]
    }
   ],
   "source": [
    "torch.cuda.set_device(1)\n",
    "print ('Available devices ', torch.cuda.device_count())\n",
    "print ('Current cuda device ', torch.cuda.current_device())"
   ]
  },
  {
   "cell_type": "code",
   "execution_count": 6,
   "metadata": {},
   "outputs": [
    {
     "name": "stdout",
     "output_type": "stream",
     "text": [
      "4\n",
      "Cuda installed! Running on GPU!\n"
     ]
    }
   ],
   "source": [
    "def set_seed(seed):\n",
    "    \"\"\"\n",
    "    Use this to set ALL the random seeds to a fixed value and take out any randomness from cuda kernels\n",
    "    \"\"\"\n",
    "    random.seed(seed)\n",
    "    np.random.seed(seed)\n",
    "    torch.manual_seed(seed)\n",
    "    torch.cuda.manual_seed_all(seed)\n",
    "\n",
    "    torch.backends.cudnn.benchmark = False  ##uses the inbuilt cudnn auto-tuner to find the fastest convolution algorithms. -\n",
    "    torch.backends.cudnn.enabled   = False\n",
    "    return True\n",
    "\n",
    "\n",
    "print(torch.cuda.device_count())\n",
    "print(\"Cuda installed! Running on GPU!\")\n",
    "device = 'cuda'"
   ]
  },
  {
   "cell_type": "code",
   "execution_count": 7,
   "metadata": {},
   "outputs": [],
   "source": [
    "from torchvision.datasets import ImageFolder\n",
    "\n",
    "transform = Compose([ToTensor()])\n",
    "\n",
    "train_dataset = ImageFolder('./train',transform=transform)\n",
    "test_dataset = ImageFolder('./test',transform=transform)\n",
    "\n",
    "train_data = torch.zeros([len(train_dataset), 3, 64, 64])\n",
    "train_labels = torch.zeros([len(train_dataset)])\n",
    "\n",
    "for i, (data, label) in enumerate(train_dataset):\n",
    "    train_data[i] = data\n",
    "    train_labels[i] = label\n",
    "\n",
    "def load_mapping(fname):\n",
    "    with open(fname, mode=\"r\") as f:\n",
    "        folder_to_class = json.load(f)\n",
    "    return folder_to_class\n",
    "\n",
    "folder_to_class = load_mapping('./mapping.json')\n",
    "mapping = lambda x: folder_to_class[x]\n",
    "train_dataset.classes\n",
    "\n",
    "title = [name for name, index in folder_to_class.items() if index == 0]"
   ]
  },
  {
   "cell_type": "code",
   "execution_count": 8,
   "metadata": {},
   "outputs": [],
   "source": [
    "def plot_25_from(starting):\n",
    "    fig, axarr = plt.subplots(5, 5, figsize=(24, 12))\n",
    "    for ax, img, label in zip(axarr.flatten(), train_data.permute(0,3,1,2)[starting:starting+25].permute(0,3,1,2), train_labels[starting:starting+25]):\n",
    "        ax.imshow(img)\n",
    "        ax.set_title(str(label.item()), fontsize=14)\n",
    "    plt.show()\n",
    "\n",
    "# plot_25_from(0)\n",
    "\n",
    "shuffler = StratifiedShuffleSplit(n_splits=1, test_size=0.1, random_state=42).split(train_data, train_labels)\n",
    "indices = [(train_idx, validation_idx) for train_idx, validation_idx in shuffler][0]\n",
    "\n",
    "# print(train_data.shape)\n",
    "train_mean = [0] * 3\n",
    "train_std = [0] * 3\n",
    "for i in range(3):\n",
    "    train_mean[i] = train_data[:, i, :, :].mean().item()\n",
    "    train_std[i] = train_data[:, i, :, :].std().item()\n",
    "# print(train_mean,'\\n',train_std)"
   ]
  },
  {
   "cell_type": "code",
   "execution_count": 9,
   "metadata": {},
   "outputs": [],
   "source": [
    "def z_score_normalization(X): #z-score normalization\n",
    "\n",
    "    '''\n",
    "    Normalise the data set X with z-score normalization: (x-u)/(std)\n",
    "\n",
    "    input: X, an array of numbers in float number format\n",
    "    output: normalised X\n",
    "    '''\n",
    "    X[:,0,:,:] -= train_mean[0]\n",
    "    X[:,1,:,:] -= train_mean[1]\n",
    "    X[:,2,:,:] -= train_mean[2]\n",
    "  \n",
    "    X[:,0,:,:] /= train_std[0]\n",
    "    X[:,1,:,:] /= train_std[1]\n",
    "    X[:,2,:,:] /= train_std[2]\n",
    "    return X\n",
    "\n",
    "batch_size = 64"
   ]
  },
  {
   "cell_type": "code",
   "execution_count": 10,
   "metadata": {},
   "outputs": [],
   "source": [
    "class CustomImageTensorDataset(Dataset):\n",
    "    def __init__(self, data, targets, transform=None):\n",
    "        \"\"\"\n",
    "        Args:\n",
    "            data (Tensor): A tensor containing the data e.g. images\n",
    "            targets (Tensor): A tensor containing all the labels\n",
    "            transform (callable, optional): Optional transform to be applied\n",
    "                on a sample.\n",
    "        \"\"\"\n",
    "        self.data = data\n",
    "        self.targets = targets\n",
    "        self.transform = transform\n",
    "\n",
    "    def __len__(self):\n",
    "        return len(self.data)\n",
    "\n",
    "    def __getitem__(self, idx):\n",
    "        sample, label = self.data[idx], self.targets[idx]\n",
    "        sample = sample.float()\n",
    "\n",
    "        if self.transform:\n",
    "            sample = self.transform(sample)\n",
    "        return sample, label"
   ]
  },
  {
   "cell_type": "code",
   "execution_count": 11,
   "metadata": {},
   "outputs": [],
   "source": [
    "train_mean = train_data.mean(axis=(0,2,3))\n",
    "train_std = train_data.std(axis=(0,2,3))"
   ]
  },
  {
   "cell_type": "code",
   "execution_count": 12,
   "metadata": {},
   "outputs": [],
   "source": [
    "if (augmented == 1):\n",
    "    X_train, y_train = train_data[indices[0]].float(), train_labels[indices[0]].long()\n",
    "    X_val, y_val = train_data[indices[1]].float(), train_labels[indices[1]].long()\n",
    "else:\n",
    "    X_train, y_train = z_score_normalization(train_data[indices[0]].float()), train_labels[indices[0]]\n",
    "    X_val, y_val = z_score_normalization(train_data[indices[1]].float()), train_labels[indices[1]]\n",
    "    del train_data\n",
    "    del train_labels\n"
   ]
  },
  {
   "cell_type": "code",
   "execution_count": 13,
   "metadata": {},
   "outputs": [
    {
     "name": "stdout",
     "output_type": "stream",
     "text": [
      "Tensor shape: torch.Size([90000, 3, 64, 64])\n"
     ]
    }
   ],
   "source": [
    "# AUGMENTATION\n",
    "if (augmented == 1):\n",
    "    \n",
    "    from torchvision.transforms import Compose, ToTensor, Normalize, \\\n",
    "                                        RandomRotation, ToPILImage, RandomRotation, \\\n",
    "                                        ColorJitter, RandomHorizontalFlip, RandomCrop, \\\n",
    "                                        RandomApply, RandomChoice, RandomPerspective, \\\n",
    "                                        Resize, RandomAffine\n",
    "\n",
    "    train_mean = train_data.mean(axis=(0,2,3))\n",
    "    train_std = train_data.std(axis=(0,2,3))\n",
    "\n",
    "    del train_data\n",
    "    del train_labels\n",
    "    # Compose different transforms in a single transform sequence.yyy\n",
    "\n",
    "    # train_transform = Compose([ToPILImage(),\n",
    "    #                             #RandomRotation(8),\n",
    "    #                            #RandomHorizontalFlip(p=0.5),\n",
    "    #                            RandomCrop(64, padding = 10)\n",
    "    #                            ToTensor(),\n",
    "    #                             Normalize(mean=train_mean, std=train_std),       \n",
    "    #                           ])\n",
    "\n",
    "    # train_transform = Compose([\n",
    "    #     ToPILImage(),\n",
    "    #     RandomRotation(10),\n",
    "    #     RandomHorizontalFlip(p=0.5),\n",
    "    #     RandomCrop(64, padding=10),\n",
    "    #     ColorJitter(brightness=0.05, contrast=0.05, saturation=0.05, hue=0.05),\n",
    "    #     ToTensor(),\n",
    "    #     Normalize(mean=train_mean, std=train_std),\n",
    "    #     # RandomApply([AddGaussianNoise(0., 0.05)], p=0.2),\n",
    "        \n",
    "    # ])\n",
    "\n",
    "    # train_transform = Compose([\n",
    "    #     ToPILImage(),\n",
    "    #     Resize(299),\n",
    "    #     ToTensor(),\n",
    "    #     Normalize(mean=train_mean, std=train_std),\n",
    "    # ])\n",
    "\n",
    "    means = [0.485, 0.456, 0.406]\n",
    "    stds = [0.229, 0.224, 0.225]\n",
    "    train_transform = Compose([\n",
    "        ToPILImage(),\n",
    "        Resize(dimension1),\n",
    "        RandomApply([RandomChoice([RandomCrop(size=[dimension1, dimension1], padding=10),\n",
    "                                RandomAffine(0, translate=(0.01, 0.01))])]), # choose one or 0 transforms that make the image smaller\n",
    "        RandomApply([RandomChoice([RandomHorizontalFlip(), RandomRotation(10)])]), # choose one or zero transforms to rotate or flip the image\n",
    "        ToTensor(),\n",
    "        Normalize(mean=means, std=stds),\n",
    "    ])\n",
    "\n",
    "\n",
    "    # define normalization for test set\n",
    "    test_transform = Compose([\n",
    "        ToPILImage(),\n",
    "        Resize(dimension1),\n",
    "        ToTensor(),\n",
    "        Normalize(mean=train_mean, std=train_std)\n",
    "    ])\n",
    "\n",
    "\n",
    "print('Tensor shape:', X_train.shape)\n",
    "train_split = CustomImageTensorDataset(X_train, y_train, transform=train_transform)\n",
    "validation_split = CustomImageTensorDataset(X_val, y_val, transform=test_transform)\n",
    "# ---------- TRAIN ---------- #\n",
    "\n",
    "seed = 42\n",
    "lr = 1e-2\n",
    "momentum = 0.5\n",
    "n_epochs = 10\n",
    "workers = 0\n",
    "\n",
    "\n",
    "# Implementation of Train, Validation and Evaluate functions.\n",
    "# Note that a2 was changed in order to fit the dimensions of the data set tensor\n",
    "\n",
    "def train(model, optimizer, criterion, data_loader):\n",
    "    model.train()\n",
    "    train_loss, train_accuracy = 0, 0\n",
    "    for X, y in data_loader:\n",
    "        X, y = X.to(device), y.to(device)\n",
    "        optimizer.zero_grad()\n",
    "        a2 = model(X.view(-1, 3, dimension1, dimension1))\n",
    "        loss = criterion(a2, y)\n",
    "        loss.backward()\n",
    "        train_loss += loss*X.size(0)\n",
    "        y_pred = F.log_softmax(a2, dim=1).max(1)[1]\n",
    "        train_accuracy += accuracy_score(y.cpu().numpy(), y_pred.detach().cpu().numpy())*X.size(0)\n",
    "        optimizer.step()  \n",
    "        \n",
    "    return train_loss/len(data_loader.dataset), train_accuracy/len(data_loader.dataset)\n",
    "  \n",
    "def validate(model, criterion, data_loader):\n",
    "    model.eval()\n",
    "    validation_loss, validation_accuracy = 0., 0.\n",
    "    for X, y in data_loader:\n",
    "        with torch.no_grad():\n",
    "            X, y = X.to(device), y.to(device)\n",
    "            a2 = model(X.view(-1, 3, dimension2, dimension2))\n",
    "            loss = criterion(a2, y)\n",
    "            validation_loss += loss*X.size(0)\n",
    "            y_pred = F.log_softmax(a2, dim=1).max(1)[1]\n",
    "            validation_accuracy += accuracy_score(y.cpu().numpy(), y_pred.cpu().numpy())*X.size(0)\n",
    "            \n",
    "    return validation_loss/len(data_loader.dataset), validation_accuracy/len(data_loader.dataset)"
   ]
  },
  {
   "cell_type": "code",
   "execution_count": 14,
   "metadata": {},
   "outputs": [],
   "source": [
    "def evaluate(model, data_loader):\n",
    "    model.eval()\n",
    "    ys, y_preds = [], []\n",
    "    for X, y in data_loader:\n",
    "        with torch.no_grad():\n",
    "            X, y = X.to(device), y.to(device)\n",
    "            a2 = model(X.view(-1, 3, dimension2, dimension2))\n",
    "            y_pred = F.log_softmax(a2, dim=1).max(1)[1]\n",
    "            ys.append(y.cpu().numpy())\n",
    "            y_preds.append(y_pred.cpu().numpy())"
   ]
  },
  {
   "cell_type": "code",
   "execution_count": 15,
   "metadata": {},
   "outputs": [],
   "source": [
    "import time\n",
    "def train_model_augmented(title, momentum=0.5):\n",
    "    \n",
    "    start = time.time()\n",
    "    \n",
    "    set_seed(seed)\n",
    "    optimizer = torch.optim.SGD(model.parameters(), lr=lr, momentum=momentum, weight_decay=weight_decay)\n",
    "    criterion = nn.CrossEntropyLoss()\n",
    "  \n",
    "    train_loader = DataLoader(train_split, batch_size=batch_size, shuffle=True, num_workers=workers)\n",
    "    validation_loader = DataLoader(validation_split, batch_size=test_batch_size, shuffle=False, num_workers=workers)\n",
    "    \n",
    "    liveloss = PlotLosses()\n",
    "    \n",
    "    end = time.time()\n",
    "    print('I am outside', end - start)\n",
    "    \n",
    "    for epoch in range(n_epochs):\n",
    "    \n",
    "        logs = {}\n",
    "\n",
    "        train_loss, train_accuracy = train(model, optimizer, criterion, train_loader)\n",
    "        logs['' + 'log loss'] = train_loss.item()\n",
    "        logs['' + 'accuracy'] = train_accuracy.item()\n",
    "\n",
    "        validation_loss, validation_accuracy = validate(model, criterion, validation_loader)\n",
    "        logs['val_' + 'log loss'] = validation_loss.item()\n",
    "        logs['val_' + 'accuracy'] = validation_accuracy.item()\n",
    "\n",
    "        liveloss.update(logs)\n",
    "        liveloss.draw()\n",
    "\n",
    "        PATH = './' + str(epoch) + title + '_model.pth'\n",
    "        torch.save(model.state_dict(), PATH)\n",
    "        \n",
    "        end = time.time()\n",
    "        print('Epoch: ' + str(epoch), 'Train acc:', round(train_accuracy.item(), 4), 'Val acc:', round(validation_accuracy.item(), 4), 'Time', round(end - start, 4))\n",
    "\n",
    "    PATH = './' + title + '_model.pth'\n",
    "    torch.save(model.state_dict(), PATH)\n",
    "\n",
    "    return model"
   ]
  },
  {
   "cell_type": "code",
   "execution_count": null,
   "metadata": {},
   "outputs": [
    {
     "data": {
      "image/png": "[encoded data removed]",
      "text/plain": [
       "<Figure size 864x576 with 2 Axes>"
      ]
     },
     "metadata": {
      "needs_background": "light"
     },
     "output_type": "display_data"
    },
    {
     "name": "stdout",
     "output_type": "stream",
     "text": [
      "accuracy\n",
      "\ttraining         \t (min:    0.684, max:    0.976, cur:    0.976)\n",
      "\tvalidation       \t (min:    0.777, max:    0.787, cur:    0.778)\n",
      "log loss\n",
      "\ttraining         \t (min:    0.089, max:    1.517, cur:    0.089)\n",
      "\tvalidation       \t (min:    0.851, max:    0.972, cur:    0.972)\n",
      "Epoch: 8 Train acc: 0.9764 Val acc: 0.7781 Time 83197.0282\n"
     ]
    }
   ],
   "source": [
    "# Hyperparameters\n",
    "\n",
    "# MODELS\n",
    "import torchvision.models as models\n",
    "model = models.wide_resnet101_2(pretrained=True)\n",
    "\n",
    "\n",
    "lr=1e-2\n",
    "momentum=0.5\n",
    "weight_decay = 0\n",
    "workers = 0\n",
    "\n",
    " # Edit last layer\n",
    "num_ftrs = model.fc.in_features\n",
    "model.fc = nn.Linear(num_ftrs, 200)\n",
    "\n",
    "\n",
    "model = model.to(device)\n",
    "train_model_augmented('wide_resnet101_2')\n",
    "\n",
    "csv_out = 0\n",
    "if (csv_out == 1):\n",
    "    PATH = './' + str(4) + 'wide_resnet101_2' + '_model.pth'\n",
    "    model.load_state_dict(torch.load(PATH))\n",
    "    model = model.to(device)\n",
    "    \n",
    "    import pandas as pd\n",
    "\n",
    "    def test_result(model, data_loader):\n",
    "        \n",
    "        model.eval()\n",
    "        y_preds, y_numbers = [],[]\n",
    "        for X, y in data_loader:\n",
    "            with torch.no_grad():\n",
    "                X, y= X.to(device), y.to(device)\n",
    "                a2 = model(X)\n",
    "                y_pred = F.log_softmax(a2, dim=1).max(1)[1]\n",
    "                y_numbers.append(y.cpu().numpy())\n",
    "                y_preds.append(y_pred.cpu().numpy())\n",
    "                \n",
    "        return np.array(y_preds), np.array(y_numbers).astype(int)\n",
    "\n",
    "\n",
    "test_file_path = './test'"
   ]
  },
  {
   "cell_type": "markdown",
   "metadata": {},
   "source": []
  },
  {
   "cell_type": "code",
   "execution_count": null,
   "metadata": {},
   "outputs": [],
   "source": []
  }
 ],
 "metadata": {
  "kernelspec": {
   "display_name": "Python 3",
   "language": "python",
   "name": "python3"
  },
  "language_info": {
   "codemirror_mode": {
    "name": "ipython",
    "version": 3
   },
   "file_extension": ".py",
   "mimetype": "text/x-python",
   "name": "python",
   "nbconvert_exporter": "python",
   "pygments_lexer": "ipython3",
   "version": "3.8.3"
  }
 },
 "nbformat": 4,
 "nbformat_minor": 4
}
